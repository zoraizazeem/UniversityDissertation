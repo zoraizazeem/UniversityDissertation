{
 "cells": [
  {
   "cell_type": "markdown",
   "id": "4e121c14",
   "metadata": {},
   "source": [
    "# Description of file:\n",
    "\n",
    "This file depicts the resizing of images, as used in chapter 3 section 3 within the disseration.\n",
    "\n",
    "## Functions:\n",
    "\n",
    "### `image_res(file_path , resolution= 0.5)`:\n",
    "Uses the `cv2.resize()` to adjust the resolution of the image at argument `file_path`. The resolution is depicted in float argument `resolution`.\n",
    " "
   ]
  },
  {
   "cell_type": "code",
   "execution_count": 1,
   "id": "dda1c97a",
   "metadata": {},
   "outputs": [],
   "source": [
    "from PIL import Image\n",
    "import cv2"
   ]
  },
  {
   "cell_type": "code",
   "execution_count": 2,
   "id": "5b6cfa49",
   "metadata": {},
   "outputs": [],
   "source": [
    "def image_res(file_path , resolution= 0.5):\n",
    "    ROOT = \"./SelfSimilarFractals/\"\n",
    "    old_path = ROOT + file_path\n",
    "    new_path = ROOT + \"resolutions/\" +file_path[:-4]+ str(int(resolution* 100))+ file_path[-4:]\n",
    "    \n",
    "    dims = (cv2.imread(old_path, cv2.IMREAD_GRAYSCALE)).shape # old dimensions of image\n",
    "    print(file_path)\n",
    "    print(dims)\n",
    "    new_dims = int(dims[0]*resolution), int(dims[1]*resolution) # new dimension of image, to which image is \n",
    "                                                                # converted\n",
    "    print(new_dims)\n",
    "    \n",
    "    im = Image.open(old_path)\n",
    "    im_resized = im.resize(new_dims, Image.ANTIALIAS) # resize the image\n",
    "    im_resized.save(new_path, \"PNG\") # save said image"
   ]
  },
  {
   "cell_type": "code",
   "execution_count": 5,
   "id": "d7291d34",
   "metadata": {},
   "outputs": [],
   "source": [
    "# list of benchmark fractals\n",
    "files = [\"GreatBritain.png\", \"SierpinskiTriangleHD.png\", \"Douady_rabbitNew.png\",  \"JuliaSetNew.png\", \"irelandcoastNew.png\"]\n"
   ]
  },
  {
   "cell_type": "code",
   "execution_count": 4,
   "id": "f72e700a",
   "metadata": {
    "scrolled": true
   },
   "outputs": [
    {
     "name": "stdout",
     "output_type": "stream",
     "text": [
      "GreatBritain.png\n",
      "(632, 632)\n",
      "(316, 316)\n",
      "SierpinskiTriangleHD.png\n",
      "(1400, 1800)\n",
      "(700, 900)\n"
     ]
    },
    {
     "name": "stderr",
     "output_type": "stream",
     "text": [
      "/var/folders/jd/r79cklw57_bgyl4gtpf5f85c0000gn/T/ipykernel_73228/497027323.py:15: DeprecationWarning: ANTIALIAS is deprecated and will be removed in Pillow 10 (2023-07-01). Use Resampling.LANCZOS instead.\n",
      "  im_resized = im.resize(new_dims, Image.ANTIALIAS)\n"
     ]
    },
    {
     "name": "stdout",
     "output_type": "stream",
     "text": [
      "Douady_rabbitNew.png\n",
      "(1500, 1500)\n",
      "(750, 750)\n",
      "JuliaSetNew.png\n",
      "(1000, 1600)\n",
      "(500, 800)\n",
      "irelandcoastNew.png\n",
      "(3000, 2200)\n",
      "(1500, 1100)\n"
     ]
    }
   ],
   "source": [
    "# automatically call the image_res() function on all benchmark fractals, saving images at half resolution.\n",
    "for file in files:\n",
    "    image_res(file, 0.5)"
   ]
  },
  {
   "cell_type": "code",
   "execution_count": null,
   "id": "eebe1690",
   "metadata": {},
   "outputs": [],
   "source": []
  },
  {
   "cell_type": "code",
   "execution_count": null,
   "id": "0a07dcf2",
   "metadata": {},
   "outputs": [],
   "source": []
  }
 ],
 "metadata": {
  "kernelspec": {
   "display_name": "Python 3 (ipykernel)",
   "language": "python",
   "name": "python3"
  },
  "language_info": {
   "codemirror_mode": {
    "name": "ipython",
    "version": 3
   },
   "file_extension": ".py",
   "mimetype": "text/x-python",
   "name": "python",
   "nbconvert_exporter": "python",
   "pygments_lexer": "ipython3",
   "version": "3.9.12"
  }
 },
 "nbformat": 4,
 "nbformat_minor": 5
}
